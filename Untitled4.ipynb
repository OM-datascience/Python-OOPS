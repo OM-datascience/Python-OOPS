{
  "nbformat": 4,
  "nbformat_minor": 0,
  "metadata": {
    "colab": {
      "provenance": []
    },
    "kernelspec": {
      "name": "python3",
      "display_name": "Python 3"
    },
    "language_info": {
      "name": "python"
    }
  },
  "cells": [
    {
      "cell_type": "markdown",
      "source": [
        "# Theoretical Questions\n",
        "\n",
        "# 1. What is Object-Oriented Programming (OOP)?\n",
        "Object-Oriented Programming is a way to structure code using objects and classes. Classes define blueprints for objects, which combine data (attributes) and behavior (methods). It focuses on concepts like inheritance, polymorphism, and encapsulation. For example, a class Car can define attributes like color and methods like drive for a car object.\n",
        "\n",
        "# 2. What is a class in OOP?\n",
        "A class is a template for creating objects, defining their properties (attributes) and behaviors (methods). It’s like a blueprint for objects. For example, a class Student can have attributes like name and methods like study.\n",
        "class Student:\n",
        "    def __init__(self, name):\n",
        "        self.name = name\n",
        "    def study(self):\n",
        "        return f\"{self.name} is studying\"\n",
        "\n",
        "# 3. What is an object in OOP?\n",
        "An object is an instance of a class, created from its blueprint. It has the class’s attributes and methods. For example, if Student is a class, an object could be a specific student named Om.\n",
        "student = Student(\"Om\")\n",
        "print(student.name)  # Access object’s attribute\n",
        "\n",
        "# 4. What is the difference between abstraction and encapsulation?\n",
        "Abstraction hides complex details and shows only essential features, like using a method without knowing its inner workings. Encapsulation bundles data and methods together, restricting direct access to data. For example, a class Car encapsulates speed and provides a method get_speed() to access it, while abstraction lets you call drive() without knowing how it works.\n",
        "\n",
        "# 5. What are dunder methods in Python?\n",
        "Dunder methods (double underscore) are special methods in Python with names like __init__ or __str__. They define how objects behave with built-in operations. For example, __init__ initializes an object’s attributes.\n",
        "class Person:\n",
        "    def __init__(self, name):\n",
        "        self.name = name\n",
        "\n",
        "# 6. Explain the concept of inheritance in OOP.\n",
        "Inheritance lets a class (child) inherit attributes and methods from another class (parent). It promotes code reuse. For example, a class Dog can inherit from Animal to get a generic method like eat.\n",
        "class Animal:\n",
        "    def eat(self):\n",
        "        return \"Eating\"\n",
        "class Dog(Animal):\n",
        "    pass\n",
        "dog = Dog()\n",
        "print(dog.eat())\n",
        "\n",
        "# 7. What is polymorphism in OOP?\n",
        "Polymorphism means objects of different classes can be treated as instances of a common base class, often through method overriding. For example, a Bird class has a fly method, but Sparrow and Penguin override it differently.\n",
        "class Bird:\n",
        "    def fly(self):\n",
        "        return \"Flying\"\n",
        "class Sparrow(Bird):\n",
        "    def fly(self):\n",
        "        return \"Sparrow flies high\"\n",
        "\n",
        "# 8. How is encapsulation achieved in Python?\n",
        "Encapsulation is achieved by using private attributes (with single _ or double __) and providing public methods to access or modify them. For example, a class BankAccount uses __balance to restrict direct access, with methods to manage it.\n",
        "class BankAccount:\n",
        "    def __init__(self):\n",
        "        self.__balance = 0\n",
        "    def deposit(self, amount):\n",
        "        self.__balance += amount\n",
        "\n",
        "# 9. What is a constructor in Python?\n",
        "A constructor is the __init__ method that initializes a new object’s attributes when it’s created. For example, a class Car uses __init__ to set its model and year.\n",
        "class Car:\n",
        "    def __init__(self, model, year):\n",
        "        self.model = model\n",
        "        self.year = year\n",
        "\n",
        "# 10. What are class and static methods in Python?\n",
        "Class methods use @classmethod and take the class as the first argument (cls), shared across all instances. Static methods use @staticmethod and don’t take self or cls, behaving like regular functions. For example, a class Math has a class method to track operations and a static method to add numbers.\n",
        "class Math:\n",
        "    @classmethod\n",
        "    def info(cls):\n",
        "        return \"Math class\"\n",
        "    @staticmethod\n",
        "    def add(a, b):\n",
        "        return a + b\n",
        "\n",
        "# 11. What is method overloading in Python?\n",
        "Python doesn’t support method overloading directly (same method name with different parameters). Instead, default arguments or variable-length arguments are used. For example, a method greet can handle different inputs using default parameters.\n",
        "def greet(name, greeting=\"Hello\"):\n",
        "    return f\"{greeting}, {name}\"\n",
        "\n",
        "# 12. What is method overriding in OOP?\n",
        "Method overriding occurs when a child class redefines a method from its parent class. For example, a parent class Animal has a speak method, but a child class Cat overrides it to say \"Meow\".\n",
        "class Animal:\n",
        "    def speak(self):\n",
        "        return \"Generic sound\"\n",
        "class Cat(Animal):\n",
        "    def speak(self):\n",
        "        return \"Meow\"\n",
        "\n",
        "# 13. What is a property decorator in Python?\n",
        "The @property decorator lets a method act like an attribute, providing controlled access to data. For example, a class Rectangle uses @property to get the area without calling a method explicitly.\n",
        "class Rectangle:\n",
        "    def __init__(self, width, height):\n",
        "        self.width = width\n",
        "        self.height = height\n",
        "    @property\n",
        "    def area(self):\n",
        "        return self.width * self.height\n",
        "\n",
        "# 14. Why is polymorphism important in OOP?\n",
        "Polymorphism allows different classes to be treated uniformly through a common interface, making code flexible and reusable. For example, a function can call speak() on any Animal subclass, and each will respond differently (e.g., Dog barks, Cat meows).\n",
        "\n",
        "# 15. What is an abstract class in Python?\n",
        "An abstract class is a class that can’t be instantiated and defines methods that subclasses must implement. It’s created using the abc module. For example, an abstract class Shape requires subclasses to implement area().\n",
        "from abc import ABC, abstractmethod\n",
        "class Shape(ABC):\n",
        "    @abstractmethod\n",
        "    def area(self):\n",
        "        pass\n",
        "\n",
        "# 16. What are the advantages of OOP?\n",
        "OOP offers modularity (code organized in classes), reusability (through inheritance), flexibility (via polymorphism), and data protection (encapsulation). For example, a class Car can be reused and extended for different car types, keeping code organized.\n",
        "\n",
        "# 17. What is the difference between a class variable and an instance variable?\n",
        "Class variables are shared across all instances of a class, defined outside methods. Instance variables are unique to each object, set in __init__. For example, a class Student has a class variable school and instance variable name.\n",
        "class Student:\n",
        "    school = \"High School\"  # Class variable\n",
        "    def __init__(self, name):\n",
        "        self.name = name  # Instance variable\n",
        "\n",
        "# 18. What is multiple inheritance in Python?\n",
        "Multiple inheritance allows a class to inherit from multiple parent classes. For example, a class Smartphone can inherit from both Phone and Computer to combine their features.\n",
        "class Phone:\n",
        "    def call(self):\n",
        "        return \"Calling\"\n",
        "class Computer:\n",
        "    def compute(self):\n",
        "        return \"Computing\"\n",
        "class Smartphone(Phone, Computer):\n",
        "    pass\n",
        "\n",
        "# 19. Explain the purpose of '__str__' and '__repr__' methods in Python.\n",
        "__str__ returns a readable string representation of an object for end users. __repr__ returns a detailed string for developers, often showing how to recreate the object. For example, a class Person uses __str__ for a friendly message and __repr__ for debugging.\n",
        "class Person:\n",
        "    def __init__(self, name):\n",
        "        self.name = name\n",
        "    def __str__(self):\n",
        "        return f\"Person: {self.name}\"\n",
        "    def __repr__(self):\n",
        "        return f\"Person('{self.name}')\"\n",
        "\n",
        "# 20. What is the significance of the 'super()' function in Python?\n",
        "super() calls methods from a parent class in a child class, useful for extending or modifying inherited behavior. For example, a child class Dog uses super() to call the parent’s __init__.\n",
        "class Animal:\n",
        "    def __init__(self, species):\n",
        "        self.species = species\n",
        "class Dog(Animal):\n",
        "    def __init__(self, species, name):\n",
        "        super().__init__(species)\n",
        "        self.name = name\n",
        "\n",
        "# 21. What is the significance of the __del__ method in Python?\n",
        "The __del__ method is called when an object is about to be destroyed, useful for cleanup (e.g., closing files). For example, a class FileHandler closes a file in __del__.\n",
        "class FileHandler:\n",
        "    def __del__(self):\n",
        "        print(\"Object destroyed\")\n",
        "\n",
        "# 22. What is the difference between @staticmethod and @classmethod in Python?\n",
        "@staticmethod is a method that doesn’t take self or cls, acting like a regular function but within a class. @classmethod takes cls (the class) as the first argument, shared across instances. For example, a class Math uses @staticmethod for add and @classmethod for class info.\n",
        "class Math:\n",
        "    @classmethod\n",
        "    def info(cls):\n",
        "        return \"Math class\"\n",
        "    @staticmethod\n",
        "    def add(a, b):\n",
        "        return a + b\n",
        "\n",
        "# 23. How does polymorphism work in Python with inheritance?\n",
        "Polymorphism with inheritance allows child classes to override parent methods, letting objects of different classes respond differently to the same method call. For example, a base class Animal has a speak method, overridden by Dog and Cat.\n",
        "class Animal:\n",
        "    def speak(self):\n",
        "        return \"Sound\"\n",
        "class Dog(Animal):\n",
        "    def speak(self):\n",
        "        return \"Bark\"\n",
        "\n",
        "# 24. What is method chaining in Python OOP?\n",
        "Method chaining lets multiple methods be called on an object in one line, where each method returns self. For example, a class Builder has methods that return self to chain operations.\n",
        "class Builder:\n",
        "    def __init__(self):\n",
        "        self.value = 0\n",
        "    def add(self, x):\n",
        "        self.value += x\n",
        "        return self\n",
        "    def multiply(self, x):\n",
        "        self.value *= x\n",
        "        return self\n",
        "\n",
        "# 25. What is the purpose of the __call__ method in Python?\n",
        "The __call__ method makes an object callable like a function. For example, a class Multiplier can be called with a number to multiply.\n",
        "class Multiplier:\n",
        "    def __init__(self, factor):\n",
        "        self.factor = factor\n",
        "    def __call__(self, x):\n",
        "        return self.factor * x"
      ],
      "metadata": {
        "id": "tfSamjm7HQ_7"
      }
    },
    {
      "cell_type": "code",
      "source": [
        "# 1. Create a parent class Animal with a method speak() that prints a generic message. Create a child class Dog that overrides the speak() method to print \"Bark!\".\n",
        "class Animal:\n",
        "    def speak(self):\n",
        "        # Generic message for any animal\n",
        "        print(\"Generic animal sound\")\n",
        "class Dog(Animal):\n",
        "    def speak(self):\n",
        "        # Override to print dog-specific sound\n",
        "        print(\"Bark!\")\n",
        "dog = Dog()\n",
        "dog.speak()"
      ],
      "metadata": {
        "colab": {
          "base_uri": "https://localhost:8080/"
        },
        "id": "S0GQr2AaHyxX",
        "outputId": "9dcc796b-2804-4eed-8fb8-5af085ff0d8c"
      },
      "execution_count": 1,
      "outputs": [
        {
          "output_type": "stream",
          "name": "stdout",
          "text": [
            "Bark!\n"
          ]
        }
      ]
    },
    {
      "cell_type": "code",
      "source": [
        "# 2. Write a program to create an abstract class Shape with a method area(). Derive classes Circle and Rectangle from it and implement the area() method in both.\n",
        "from abc import ABC, abstractmethod\n",
        "class Shape(ABC):\n",
        "    @abstractmethod\n",
        "    def area(self):\n",
        "        # Abstract method, must be implemented by subclasses\n",
        "        pass\n",
        "class Circle(Shape):\n",
        "    def __init__(self, radius):\n",
        "        self.radius = radius\n",
        "    def area(self):\n",
        "        # Area of circle: pi * r^2\n",
        "        return 3.14 * self.radius ** 2\n",
        "class Rectangle(Shape):\n",
        "    def __init__(self, width, height):\n",
        "        self.width = width\n",
        "        self.height = height\n",
        "    def area(self):\n",
        "        # Area of rectangle: width * height\n",
        "        return self.width * self.height\n",
        "circle = Circle(5)\n",
        "rectangle = Rectangle(4, 6)\n",
        "print(circle.area())\n",
        "print(rectangle.area())"
      ],
      "metadata": {
        "colab": {
          "base_uri": "https://localhost:8080/"
        },
        "id": "b7k1Oh2GH1Fk",
        "outputId": "17a7b86e-125e-40d8-ee8a-9299e32c9ec2"
      },
      "execution_count": 2,
      "outputs": [
        {
          "output_type": "stream",
          "name": "stdout",
          "text": [
            "78.5\n",
            "24\n"
          ]
        }
      ]
    },
    {
      "cell_type": "code",
      "source": [
        "# 3. Implement a multi-level inheritance scenario where a class Vehicle has an attribute type. Derive a class Car and further derive a class ElectricCar that adds a battery attribute.\n",
        "class Vehicle:\n",
        "    def __init__(self, type):\n",
        "        # Initialize vehicle type\n",
        "        self.type = type\n",
        "class Car(Vehicle):\n",
        "    def __init__(self, type, model):\n",
        "        # Initialize vehicle type and car model\n",
        "        super().__init__(type)\n",
        "        self.model = model\n",
        "class ElectricCar(Car):\n",
        "    def __init__(self, type, model, battery):\n",
        "        # Initialize car attributes and add battery\n",
        "        super().__init__(type, model)\n",
        "        self.battery = battery\n",
        "tesla = ElectricCar(\"Sedan\", \"Model S\", \"100kWh\")\n",
        "print(tesla.type, tesla.model, tesla.battery)"
      ],
      "metadata": {
        "colab": {
          "base_uri": "https://localhost:8080/"
        },
        "id": "M6qEVCI3IG_Z",
        "outputId": "bd61ec67-2510-45ef-bfba-cc7d9ec597fc"
      },
      "execution_count": 4,
      "outputs": [
        {
          "output_type": "stream",
          "name": "stdout",
          "text": [
            "Sedan Model S 100kWh\n"
          ]
        }
      ]
    },
    {
      "cell_type": "code",
      "source": [
        "# 3. Implement a multi-level inheritance scenario where a class Vehicle has an attribute type. Derive a class Car and further derive a class ElectricCar that adds a battery attribute.\n",
        "class Vehicle:\n",
        "    def __init__(self, type):\n",
        "        # Initialize vehicle type\n",
        "        self.type = type\n",
        "class Car(Vehicle):\n",
        "    def __init__(self, type, model):\n",
        "        # Initialize vehicle type and car model\n",
        "        super().__init__(type)\n",
        "        self.model = model\n",
        "class ElectricCar(Car):\n",
        "    def __init__(self, type, model, battery):\n",
        "        # Initialize car attributes and add battery\n",
        "        super().__init__(type, model)\n",
        "        self.battery = battery\n",
        "tesla = ElectricCar(\"Sedan\", \"Model S\", \"100kWh\")\n",
        "print(tesla.type, tesla.model, tesla.battery)"
      ],
      "metadata": {
        "colab": {
          "base_uri": "https://localhost:8080/"
        },
        "id": "GLb9IVG5IPYb",
        "outputId": "6dbc926b-3a94-4eb5-c458-931ddb08fde6"
      },
      "execution_count": 5,
      "outputs": [
        {
          "output_type": "stream",
          "name": "stdout",
          "text": [
            "Sedan Model S 100kWh\n"
          ]
        }
      ]
    },
    {
      "cell_type": "code",
      "source": [
        "# 4. Demonstrate polymorphism by creating a base class Bird with a method fly(). Create two derived classes Sparrow and Penguin that override the fly() method.\n",
        "class Bird:\n",
        "    def fly(self):\n",
        "        # Generic flying behavior\n",
        "        return \"Flying\"\n",
        "class Sparrow(Bird):\n",
        "    def fly(self):\n",
        "        # Sparrow-specific flying\n",
        "        return \"Sparrow flies high\"\n",
        "class Penguin(Bird):\n",
        "    def fly(self):\n",
        "        # Penguin can’t fly\n",
        "        return \"Penguin cannot fly\"\n",
        "sparrow = Sparrow()\n",
        "penguin = Penguin()\n",
        "print(sparrow.fly())\n",
        "print(penguin.fly())"
      ],
      "metadata": {
        "colab": {
          "base_uri": "https://localhost:8080/"
        },
        "id": "Vte6LIryIdI3",
        "outputId": "7e91d704-f611-4869-c301-87e0dacd2a75"
      },
      "execution_count": 7,
      "outputs": [
        {
          "output_type": "stream",
          "name": "stdout",
          "text": [
            "Sparrow flies high\n",
            "Penguin cannot fly\n"
          ]
        }
      ]
    },
    {
      "cell_type": "code",
      "source": [
        "# 5. Write a program to demonstrate encapsulation by creating a class BankAccount with private attributes balance and methods to deposit, withdraw, and check balance.\n",
        "class BankAccount:\n",
        "    def __init__(self):\n",
        "        # Private balance attribute\n",
        "        self.__balance = 0\n",
        "    def deposit(self, amount):\n",
        "        # Add to balance\n",
        "        self.__balance += amount\n",
        "    def withdraw(self, amount):\n",
        "        # Subtract if enough funds\n",
        "        if amount <= self.__balance:\n",
        "            self.__balance -= amount\n",
        "        else:\n",
        "            print(\"Insufficient funds\")\n",
        "    def get_balance(self):\n",
        "        # Return current balance\n",
        "        return self.__balance\n",
        "account = BankAccount()\n",
        "account.deposit(100)\n",
        "account.withdraw(30)\n",
        "print(account.get_balance())"
      ],
      "metadata": {
        "colab": {
          "base_uri": "https://localhost:8080/"
        },
        "id": "ImxdT2zeImmG",
        "outputId": "a2550181-b680-4d1d-845d-26bc5da2f63d"
      },
      "execution_count": 8,
      "outputs": [
        {
          "output_type": "stream",
          "name": "stdout",
          "text": [
            "70\n"
          ]
        }
      ]
    },
    {
      "cell_type": "code",
      "source": [
        "# 6. Demonstrate runtime polymorphism using a method play() in a base class Instrument. Derive classes Guitar and Piano that implement their own version of play().\n",
        "class Instrument:\n",
        "    def play(self):\n",
        "        # Generic instrument sound\n",
        "        return \"Playing instrument\"\n",
        "class Guitar(Instrument):\n",
        "    def play(self):\n",
        "        # Guitar-specific sound\n",
        "        return \"Strumming guitar\"\n",
        "class Piano(Instrument):\n",
        "    def play(self):\n",
        "        # Piano-specific sound\n",
        "        return \"Playing piano keys\"\n",
        "guitar = Guitar()\n",
        "piano = Piano()\n",
        "print(guitar.play())\n",
        "print(piano.play())"
      ],
      "metadata": {
        "colab": {
          "base_uri": "https://localhost:8080/"
        },
        "id": "nHsKlyG3Iytl",
        "outputId": "678d3612-298b-4e4b-daa7-376f582664af"
      },
      "execution_count": 9,
      "outputs": [
        {
          "output_type": "stream",
          "name": "stdout",
          "text": [
            "Strumming guitar\n",
            "Playing piano keys\n"
          ]
        }
      ]
    },
    {
      "cell_type": "code",
      "source": [
        "# 7. Create a class MathOperations with a class method add_numbers() to add two numbers and a static method subtract_numbers() to subtract two numbers.\n",
        "class MathOperations:\n",
        "    @classmethod\n",
        "    def add_numbers(cls, a, b):\n",
        "        # Add two numbers\n",
        "        return a + b\n",
        "    @staticmethod\n",
        "    def subtract_numbers(a, b):\n",
        "        # Subtract two numbers\n",
        "        return a - b\n",
        "print(MathOperations.add_numbers(5, 3))\n",
        "print(MathOperations.subtract_numbers(5, 3))"
      ],
      "metadata": {
        "colab": {
          "base_uri": "https://localhost:8080/"
        },
        "id": "4BLwz92CI1cC",
        "outputId": "846abe47-c876-4500-a05c-0dbb290929c5"
      },
      "execution_count": 10,
      "outputs": [
        {
          "output_type": "stream",
          "name": "stdout",
          "text": [
            "8\n",
            "2\n"
          ]
        }
      ]
    },
    {
      "cell_type": "code",
      "source": [
        "# 8. Implement a class Person with a class method to count the total number of persons created.\n",
        "class Person:\n",
        "    count = 0  # Class variable to track number of persons\n",
        "    def __init__(self, name):\n",
        "        self.name = name\n",
        "        Person.count += 1\n",
        "    @classmethod\n",
        "    def get_count(cls):\n",
        "        # Return total persons created\n",
        "        return cls.count\n",
        "p1 = Person(\"Om\")\n",
        "p2 = Person(\"Alice\")\n",
        "print(Person.get_count())"
      ],
      "metadata": {
        "colab": {
          "base_uri": "https://localhost:8080/"
        },
        "id": "BcBaj1-lJEaZ",
        "outputId": "9099a390-1e65-4c89-d6b0-1c5b047720a3"
      },
      "execution_count": 11,
      "outputs": [
        {
          "output_type": "stream",
          "name": "stdout",
          "text": [
            "2\n"
          ]
        }
      ]
    },
    {
      "cell_type": "code",
      "source": [
        "# 9. Write a class Fraction with attributes numerator and denominator. Override the str method to display the fraction as \"numerator/denominator\".\n",
        "class Fraction:\n",
        "    def __init__(self, numerator, denominator):\n",
        "        # Initialize fraction\n",
        "        self.numerator = numerator\n",
        "        self.denominator = denominator\n",
        "    def __str__(self):\n",
        "        # Return fraction as string\n",
        "        return f\"{self.numerator}/{self.denominator}\"\n",
        "fraction = Fraction(3, 4)\n",
        "print(fraction)"
      ],
      "metadata": {
        "colab": {
          "base_uri": "https://localhost:8080/"
        },
        "id": "mOdJJhRBJauI",
        "outputId": "01d32b41-52c1-4534-ed26-62bcbe3eb5a9"
      },
      "execution_count": 12,
      "outputs": [
        {
          "output_type": "stream",
          "name": "stdout",
          "text": [
            "3/4\n"
          ]
        }
      ]
    },
    {
      "cell_type": "code",
      "source": [
        "# 10. Demonstrate operator overloading by creating a class Vector and overriding the add method to add two vectors.\n",
        "class Vector:\n",
        "    def __init__(self, x, y):\n",
        "        # Initialize vector coordinates\n",
        "        self.x = x\n",
        "        self.y = y\n",
        "    def __add__(self, other):\n",
        "        # Add two vectors\n",
        "        return Vector(self.x + other.x, self.y + other.y)\n",
        "    def __str__(self):\n",
        "        # Return vector as string\n",
        "        return f\"Vector({self.x}, {self.y})\"\n",
        "v1 = Vector(1, 2)\n",
        "v2 = Vector(3, 4)\n",
        "print(v1 + v2)"
      ],
      "metadata": {
        "colab": {
          "base_uri": "https://localhost:8080/"
        },
        "id": "0lqzIq43Jgom",
        "outputId": "7768e71c-dcfd-4eb1-a0f6-b10be7b0bf6b"
      },
      "execution_count": 13,
      "outputs": [
        {
          "output_type": "stream",
          "name": "stdout",
          "text": [
            "Vector(4, 6)\n"
          ]
        }
      ]
    },
    {
      "cell_type": "code",
      "source": [
        "# 11. Create a class Person with attributes name and age. Add a method greet() that prints \"Hello, my name is {name} and I am {age} years old.\"\n",
        "class Person:\n",
        "    def __init__(self, name, age):\n",
        "        # Initialize name and age\n",
        "        self.name = name\n",
        "        self.age = age\n",
        "    def greet(self):\n",
        "        # Print greeting\n",
        "        print(f\"Hello, my name is {self.name} and I am {self.age} years old.\")\n",
        "person = Person(\"Om\", 20)\n",
        "person.greet()"
      ],
      "metadata": {
        "colab": {
          "base_uri": "https://localhost:8080/"
        },
        "id": "QZJkY3QQJrDV",
        "outputId": "038f90f9-67d3-478e-fd71-a61dfebf2ab8"
      },
      "execution_count": 14,
      "outputs": [
        {
          "output_type": "stream",
          "name": "stdout",
          "text": [
            "Hello, my name is Om and I am 20 years old.\n"
          ]
        }
      ]
    },
    {
      "cell_type": "code",
      "source": [
        "# 12. Implement a class Student with attributes name and grades. Create a method average_grade() to compute the average of the grades.\n",
        "class Student:\n",
        "    def __init__(self, name, grades):\n",
        "        # Initialize name and grades list\n",
        "        self.name = name\n",
        "        self.grades = grades\n",
        "    def average_grade(self):\n",
        "        # Calculate average of grades\n",
        "        return sum(self.grades) / len(self.grades) if self.grades else 0\n",
        "student = Student(\"Om\", [90, 85, 95])\n",
        "print(student.average_grade())"
      ],
      "metadata": {
        "colab": {
          "base_uri": "https://localhost:8080/"
        },
        "id": "THJ4dTbXJwyC",
        "outputId": "868c0103-4176-4f4e-804c-cf39522f8530"
      },
      "execution_count": 15,
      "outputs": [
        {
          "output_type": "stream",
          "name": "stdout",
          "text": [
            "90.0\n"
          ]
        }
      ]
    },
    {
      "cell_type": "code",
      "source": [
        "# 13. Create a class Rectangle with methods set_dimensions() to set the dimensions and area() to calculate the area.\n",
        "class Rectangle:\n",
        "    def __init__(self):\n",
        "        # Initialize default dimensions\n",
        "        self.width = 0\n",
        "        self.height = 0\n",
        "    def set_dimensions(self, width, height):\n",
        "        # Set width and height\n",
        "        self.width = width\n",
        "        self.height = height\n",
        "    def area(self):\n",
        "        # Calculate area\n",
        "        return self.width * self.height\n",
        "rect = Rectangle()\n",
        "rect.set_dimensions(4, 5)\n",
        "print(rect.area())"
      ],
      "metadata": {
        "colab": {
          "base_uri": "https://localhost:8080/"
        },
        "id": "QWtNeUfMJ551",
        "outputId": "7fea02ec-9982-4cad-d26a-ae31349d547d"
      },
      "execution_count": 16,
      "outputs": [
        {
          "output_type": "stream",
          "name": "stdout",
          "text": [
            "20\n"
          ]
        }
      ]
    },
    {
      "cell_type": "code",
      "source": [
        "# 14. Create a class Employee with a method calculate_salary() that computes the salary based on hours worked and hourly rate. Create a derived class Manager that adds a bonus to the salary.\n",
        "class Employee:\n",
        "    def __init__(self, hours, rate):\n",
        "        # Initialize hours and rate\n",
        "        self.hours = hours\n",
        "        self.rate = rate\n",
        "    def calculate_salary(self):\n",
        "        # Calculate base salary\n",
        "        return self.hours * self.rate\n",
        "class Manager(Employee):\n",
        "    def __init__(self, hours, rate, bonus):\n",
        "        # Initialize employee attributes and bonus\n",
        "        super().__init__(hours, rate)\n",
        "        self.bonus = bonus\n",
        "    def calculate_salary(self):\n",
        "        # Add bonus to base salary\n",
        "        return super().calculate_salary() + self.bonus\n",
        "emp = Employee(40, 20)\n",
        "mgr = Manager(40, 20, 100)\n",
        "print(emp.calculate_salary())\n",
        "print(mgr.calculate_salary())"
      ],
      "metadata": {
        "colab": {
          "base_uri": "https://localhost:8080/"
        },
        "id": "TOf_nl7iKHVP",
        "outputId": "ea04a288-7d0d-4c22-f1a7-2547f23e0840"
      },
      "execution_count": 17,
      "outputs": [
        {
          "output_type": "stream",
          "name": "stdout",
          "text": [
            "800\n",
            "900\n"
          ]
        }
      ]
    },
    {
      "cell_type": "code",
      "source": [
        "# 15. Create a class Product with attributes name, price, and quantity. Implement a method total_price() that calculates the total price of the product.\n",
        "class Product:\n",
        "    def __init__(self, name, price, quantity):\n",
        "        # Initialize product details\n",
        "        self.name = name\n",
        "        self.price = price\n",
        "        self.quantity = quantity\n",
        "    def total_price(self):\n",
        "        # Calculate total price\n",
        "        return self.price * self.quantity\n",
        "product = Product(\"Book\", 29.99, 3)\n",
        "print(product.total_price())"
      ],
      "metadata": {
        "colab": {
          "base_uri": "https://localhost:8080/"
        },
        "id": "FpS9PpxgKQvj",
        "outputId": "c71eb133-f5fa-4749-d57b-e6c67a88b329"
      },
      "execution_count": 18,
      "outputs": [
        {
          "output_type": "stream",
          "name": "stdout",
          "text": [
            "89.97\n"
          ]
        }
      ]
    },
    {
      "cell_type": "code",
      "source": [
        "# 16. Create a class Animal with an abstract method sound(). Create two derived classes Cow and Sheep that implement the sound() method.\n",
        "from abc import ABC, abstractmethod\n",
        "class Animal(ABC):\n",
        "    @abstractmethod\n",
        "    def sound(self):\n",
        "        # Abstract method for animal sound\n",
        "        pass\n",
        "class Cow(Animal):\n",
        "    def sound(self):\n",
        "        # Cow-specific sound\n",
        "        return \"Moo\"\n",
        "class Sheep(Animal):\n",
        "    def sound(self):\n",
        "        # Sheep-specific sound\n",
        "        return \"Baa\"\n",
        "cow = Cow()\n",
        "sheep = Sheep()\n",
        "print(cow.sound())  # Test call\n",
        "print(sheep.sound())"
      ],
      "metadata": {
        "colab": {
          "base_uri": "https://localhost:8080/"
        },
        "id": "vihBdTmCKdnQ",
        "outputId": "f19b94ca-4817-449e-8a49-2b0a95959931"
      },
      "execution_count": 19,
      "outputs": [
        {
          "output_type": "stream",
          "name": "stdout",
          "text": [
            "Moo\n",
            "Baa\n"
          ]
        }
      ]
    },
    {
      "cell_type": "code",
      "source": [
        "# 17. Create a class Book with attributes title, author, and year_published. Add a method get_book_info() that returns a formatted string with the book's details.\n",
        "class Book:\n",
        "    def __init__(self, title, author, year_published):\n",
        "        # Initialize book details\n",
        "        self.title = title\n",
        "        self.author = author\n",
        "        self.year_published = year_published\n",
        "    def get_book_info(self):\n",
        "        # Return formatted book info\n",
        "        return f\"{self.title} by {self.author}, published in {self.year_published}\"\n",
        "book = Book(\"Python Basics\", \"Om Upadhyay\", 2025)\n",
        "print(book.get_book_info())"
      ],
      "metadata": {
        "colab": {
          "base_uri": "https://localhost:8080/"
        },
        "id": "AFdAw_buKeU3",
        "outputId": "3f9ce71f-6185-407c-862e-954b8d53b581"
      },
      "execution_count": 21,
      "outputs": [
        {
          "output_type": "stream",
          "name": "stdout",
          "text": [
            "Python Basics by Om Upadhyay, published in 2025\n"
          ]
        }
      ]
    },
    {
      "cell_type": "code",
      "source": [
        "# 18. Create a class House with attributes address and price. Create a derived class Mansion that adds an attribute number_of_rooms.\n",
        "class House:\n",
        "    def __init__(self, address, price):\n",
        "        # Initialize house details\n",
        "        self.address = address\n",
        "        self.price = price\n",
        "class Mansion(House):\n",
        "    def __init__(self, address, price, number_of_rooms):\n",
        "        # Initialize house details and add rooms\n",
        "        super().__init__(address, price)\n",
        "        self.number_of_rooms = number_of_rooms\n",
        "mansion = Mansion(\"123 Main St\", 1000000, 10)\n",
        "print(mansion.address, mansion.price, mansion.number_of_rooms)"
      ],
      "metadata": {
        "colab": {
          "base_uri": "https://localhost:8080/"
        },
        "id": "Xv1Od5dRLCFY",
        "outputId": "de8cfe6a-d895-4b7c-b038-1f1e266c59d9"
      },
      "execution_count": 22,
      "outputs": [
        {
          "output_type": "stream",
          "name": "stdout",
          "text": [
            "123 Main St 1000000 10\n"
          ]
        }
      ]
    }
  ]
}